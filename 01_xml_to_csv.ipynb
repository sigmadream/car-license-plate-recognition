{
 "cells": [
  {
   "cell_type": "code",
   "execution_count": 29,
   "metadata": {},
   "outputs": [],
   "source": [
    "import os\n",
    "import xml.etree.ElementTree as xet\n",
    "\n",
    "from glob import glob"
   ]
  },
  {
   "cell_type": "code",
   "execution_count": 30,
   "metadata": {},
   "outputs": [],
   "source": [
    "import pandas as pd"
   ]
  },
  {
   "cell_type": "code",
   "execution_count": 31,
   "metadata": {},
   "outputs": [],
   "source": [
    "path = glob('./images/*.xml')"
   ]
  },
  {
   "cell_type": "code",
   "execution_count": 32,
   "metadata": {},
   "outputs": [],
   "source": [
    "def getFilename(filename):\n",
    "    filename_image = xet.parse(filename).getroot().find('filename').text\n",
    "    filepath_image = os.path.join('.\\images',filename_image)\n",
    "    return filepath_image"
   ]
  },
  {
   "cell_type": "code",
   "execution_count": 33,
   "metadata": {},
   "outputs": [],
   "source": [
    "labels_dict = dict(filepath=[],xmin=[],xmax=[],ymin=[],ymax=[])\n",
    "\n",
    "for filename in path:\n",
    "    info = xet.parse(filename)\n",
    "    root = info.getroot()\n",
    "    member_object = root.find('object')\n",
    "    labels_info = member_object.find('bndbox')\n",
    "    \n",
    "    xmin = int(labels_info.find('xmin').text)\n",
    "    xmax = int(labels_info.find('xmax').text)\n",
    "    ymin = int(labels_info.find('ymin').text)\n",
    "    ymax = int(labels_info.find('ymax').text)\n",
    "    \n",
    "    labels_dict['filepath'].append(getFilename(filename))\n",
    "    labels_dict['xmin'].append(xmin)\n",
    "    labels_dict['xmax'].append(xmax)\n",
    "    labels_dict['ymin'].append(ymin)\n",
    "    labels_dict['ymax'].append(ymax)"
   ]
  },
  {
   "cell_type": "code",
   "execution_count": 34,
   "metadata": {},
   "outputs": [
    {
     "data": {
      "text/html": [
       "<div>\n",
       "<style scoped>\n",
       "    .dataframe tbody tr th:only-of-type {\n",
       "        vertical-align: middle;\n",
       "    }\n",
       "\n",
       "    .dataframe tbody tr th {\n",
       "        vertical-align: top;\n",
       "    }\n",
       "\n",
       "    .dataframe thead th {\n",
       "        text-align: right;\n",
       "    }\n",
       "</style>\n",
       "<table border=\"1\" class=\"dataframe\">\n",
       "  <thead>\n",
       "    <tr style=\"text-align: right;\">\n",
       "      <th></th>\n",
       "      <th>filepath</th>\n",
       "      <th>xmin</th>\n",
       "      <th>xmax</th>\n",
       "      <th>ymin</th>\n",
       "      <th>ymax</th>\n",
       "    </tr>\n",
       "  </thead>\n",
       "  <tbody>\n",
       "    <tr>\n",
       "      <th>0</th>\n",
       "      <td>.\\images\\N1.jpeg</td>\n",
       "      <td>1093</td>\n",
       "      <td>1396</td>\n",
       "      <td>645</td>\n",
       "      <td>727</td>\n",
       "    </tr>\n",
       "    <tr>\n",
       "      <th>1</th>\n",
       "      <td>.\\images\\N100.jpeg</td>\n",
       "      <td>134</td>\n",
       "      <td>301</td>\n",
       "      <td>312</td>\n",
       "      <td>350</td>\n",
       "    </tr>\n",
       "    <tr>\n",
       "      <th>2</th>\n",
       "      <td>.\\images\\N101.jpeg</td>\n",
       "      <td>31</td>\n",
       "      <td>139</td>\n",
       "      <td>128</td>\n",
       "      <td>161</td>\n",
       "    </tr>\n",
       "    <tr>\n",
       "      <th>3</th>\n",
       "      <td>.\\images\\N102.jpeg</td>\n",
       "      <td>164</td>\n",
       "      <td>316</td>\n",
       "      <td>216</td>\n",
       "      <td>243</td>\n",
       "    </tr>\n",
       "    <tr>\n",
       "      <th>4</th>\n",
       "      <td>.\\images\\N103.jpeg</td>\n",
       "      <td>813</td>\n",
       "      <td>1067</td>\n",
       "      <td>665</td>\n",
       "      <td>724</td>\n",
       "    </tr>\n",
       "    <tr>\n",
       "      <th>...</th>\n",
       "      <td>...</td>\n",
       "      <td>...</td>\n",
       "      <td>...</td>\n",
       "      <td>...</td>\n",
       "      <td>...</td>\n",
       "    </tr>\n",
       "    <tr>\n",
       "      <th>220</th>\n",
       "      <td>.\\images\\N95.jpeg</td>\n",
       "      <td>23</td>\n",
       "      <td>408</td>\n",
       "      <td>173</td>\n",
       "      <td>391</td>\n",
       "    </tr>\n",
       "    <tr>\n",
       "      <th>221</th>\n",
       "      <td>.\\images\\N96.jpeg</td>\n",
       "      <td>137</td>\n",
       "      <td>352</td>\n",
       "      <td>141</td>\n",
       "      <td>186</td>\n",
       "    </tr>\n",
       "    <tr>\n",
       "      <th>222</th>\n",
       "      <td>.\\images\\N97.jpeg</td>\n",
       "      <td>175</td>\n",
       "      <td>290</td>\n",
       "      <td>228</td>\n",
       "      <td>255</td>\n",
       "    </tr>\n",
       "    <tr>\n",
       "      <th>223</th>\n",
       "      <td>.\\images\\N98.jpeg</td>\n",
       "      <td>563</td>\n",
       "      <td>675</td>\n",
       "      <td>207</td>\n",
       "      <td>238</td>\n",
       "    </tr>\n",
       "    <tr>\n",
       "      <th>224</th>\n",
       "      <td>.\\images\\N99.jpeg</td>\n",
       "      <td>158</td>\n",
       "      <td>389</td>\n",
       "      <td>129</td>\n",
       "      <td>193</td>\n",
       "    </tr>\n",
       "  </tbody>\n",
       "</table>\n",
       "<p>225 rows × 5 columns</p>\n",
       "</div>"
      ],
      "text/plain": [
       "               filepath  xmin  xmax  ymin  ymax\n",
       "0      .\\images\\N1.jpeg  1093  1396   645   727\n",
       "1    .\\images\\N100.jpeg   134   301   312   350\n",
       "2    .\\images\\N101.jpeg    31   139   128   161\n",
       "3    .\\images\\N102.jpeg   164   316   216   243\n",
       "4    .\\images\\N103.jpeg   813  1067   665   724\n",
       "..                  ...   ...   ...   ...   ...\n",
       "220   .\\images\\N95.jpeg    23   408   173   391\n",
       "221   .\\images\\N96.jpeg   137   352   141   186\n",
       "222   .\\images\\N97.jpeg   175   290   228   255\n",
       "223   .\\images\\N98.jpeg   563   675   207   238\n",
       "224   .\\images\\N99.jpeg   158   389   129   193\n",
       "\n",
       "[225 rows x 5 columns]"
      ]
     },
     "execution_count": 34,
     "metadata": {},
     "output_type": "execute_result"
    }
   ],
   "source": [
    "df = pd.DataFrame(labels_dict)\n",
    "df"
   ]
  },
  {
   "cell_type": "code",
   "execution_count": 35,
   "metadata": {},
   "outputs": [],
   "source": [
    "df.to_csv('labels.csv',index=False)"
   ]
  },
  {
   "cell_type": "code",
   "execution_count": null,
   "metadata": {},
   "outputs": [],
   "source": []
  }
 ],
 "metadata": {
  "kernelspec": {
   "display_name": "Python 3 (ipykernel)",
   "language": "python",
   "name": "python3"
  },
  "language_info": {
   "codemirror_mode": {
    "name": "ipython",
    "version": 3
   },
   "file_extension": ".py",
   "mimetype": "text/x-python",
   "name": "python",
   "nbconvert_exporter": "python",
   "pygments_lexer": "ipython3",
   "version": "3.9.7"
  }
 },
 "nbformat": 4,
 "nbformat_minor": 4
}
